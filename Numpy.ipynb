{
 "cells": [
  {
   "cell_type": "code",
   "execution_count": null,
   "id": "c2d05bd1-4757-46bf-a4b3-ae699b2b6385",
   "metadata": {},
   "outputs": [],
   "source": [
    "#1. What is a Python library? Why do we use Python libraries?"
   ]
  },
  {
   "cell_type": "code",
   "execution_count": null,
   "id": "f98c7f4a-d992-49cf-ba19-86b97af831d5",
   "metadata": {},
   "outputs": [],
   "source": [
    "A Python library is a collection of modules and functions that extend the capabilities of the Python programming language.\n",
    "These libraries provide pre-written, reusable code that can be easily integrated into your own Python programs, saving time and effort in development. \n",
    "Libraries often contain implementations of common algorithms, data structures, and functionalities, allowing developers to leverage existing code rather \n",
    "than writing everything from scratch.\n",
    "\n",
    "Python libraries serve various purposes, including:\n",
    "\n",
    "Code Reusability: Libraries provide a set of pre-built functions and modules that you can use in your projects, saving you from reinventing the wheel \n",
    "and allowing you to build on the work of others.\n",
    "\n",
    "Efficiency: Libraries are usually optimized for performance and correctness. By using established and well-tested libraries, you can benefit from the\n",
    "expertise of experienced developers and ensure that your code is reliable and efficient.\n",
    "\n",
    "Rapid Development: Libraries speed up the development process by providing high-level abstractions and ready-to-use components. This allows developers\n",
    "to focus on solving specific problems rather than dealing with low-level details.\n",
    "\n",
    "Community Support: Python has a large and active community of developers who contribute to and maintain numerous libraries. This community support means\n",
    "that you can often find solutions to common problems or get help when you encounter difficulties.\n",
    "\n",
    "Specialized Functionality: Python libraries cover a wide range of domains, from data science (e.g., NumPy, pandas, scikit-learn) to web development \n",
    "(e.g., Flask, Django) and machine learning (e.g., TensorFlow, PyTorch). Using these specialized libraries allows you to leverage the expertise of domain-specific developers and tools.\n",
    "\n",
    "In summary, Python libraries enhance the functionality of the language, promote code reuse, and enable developers to build robust and efficient\n",
    "solutions by leveraging existing code and expertise."
   ]
  },
  {
   "cell_type": "code",
   "execution_count": null,
   "id": "69a95141-46ae-49bc-97d6-70732eb89103",
   "metadata": {},
   "outputs": [],
   "source": [
    "#2. What is the difference between Numpy array and List?"
   ]
  },
  {
   "cell_type": "code",
   "execution_count": null,
   "id": "b4fd1273-3ebe-4583-bd3a-2340b8f6b16c",
   "metadata": {},
   "outputs": [],
   "source": [
    "NumPy arrays and Python lists are both used to store and manipulate collections of data, but there are several key differences\n",
    "between them:\n",
    "\n",
    "1.Type of Elements:\n",
    "\n",
    "List: A Python list can contain elements of different data types. You can have integers, strings, floats, or even other lists as elements within a single list.\n",
    "NumPy Array: NumPy arrays are homogeneous, meaning all elements must be of the same data type. This homogeneity allows for more efficient storage and operations.\n",
    "\n",
    "2.Performance:\n",
    "\n",
    "List: Lists are generally slower than NumPy arrays for numerical operations. Python lists are dynamic and can resize, which adds some overhead.\n",
    "NumPy Array: NumPy arrays are statically typed and more memory efficient. They are implemented in C and provide better performance for numerical computations.\n",
    "\n",
    "3.Memory Usage:\n",
    "\n",
    "List: Lists are more memory-intensive as they store additional information such as the type of each element.\n",
    "NumPy Array: NumPy arrays are more memory-efficient due to their fixed type and compact storage.\n",
    "\n",
    "4.Convenience and Functionality:\n",
    "\n",
    "List: Lists provide a more general-purpose collection with various built-in methods. They are flexible but might not be as efficient for numerical operations.\n",
    "NumPy Array: NumPy arrays come with a rich set of functions and methods specifically designed for numerical operations. This includes vectorized operations,\n",
    "which can significantly improve performance.\n",
    "\n",
    "5.Syntax:\n",
    "\n",
    "List: Lists are part of the core Python language and have a straightforward syntax for creation, e.g., my_list = [1, 2, 3].\n",
    "NumPy Array: NumPy arrays are created using the numpy.array() constructor, and their syntax allows for more advanced operations on arrays.\n",
    "\n",
    "6.Size and Shape:\n",
    "\n",
    "List: Lists can be multi-dimensional, but they are not designed for numerical computations.\n",
    "NumPy Array: NumPy arrays are explicitly designed for numerical operations and can be multi-dimensional. They are widely used in scientific computing\n",
    "and data analysis.\n",
    "\n",
    "In summary, while lists are more general-purpose and flexible, NumPy arrays are optimized for numerical operations, providing better performance and \n",
    "memory efficiency for tasks involving numerical data. Choosing between them depends on the specific requirements of your application."
   ]
  },
  {
   "cell_type": "code",
   "execution_count": null,
   "id": "2404017a-8bfb-41f2-b8cc-3d0c550762f8",
   "metadata": {},
   "outputs": [],
   "source": [
    "#3.Find the shape, size and dimension of the following array?\n",
    "[[1, 2, 3, 4]\n",
    "[5, 6, 7, 8],\n",
    "[9, 10, 11, 12]]"
   ]
  },
  {
   "cell_type": "code",
   "execution_count": 2,
   "id": "312fcc41-5a78-4724-ba7b-735ec1dca6fc",
   "metadata": {
    "tags": []
   },
   "outputs": [
    {
     "name": "stdout",
     "output_type": "stream",
     "text": [
      "Shape: (3, 4)\n",
      "Size: 12\n",
      "Dimensions: 2\n"
     ]
    }
   ],
   "source": [
    "import numpy as np\n",
    "\n",
    "# Define the array\n",
    "my_array = np.array([[1, 2, 3, 4],\n",
    "                    [5, 6, 7, 8],\n",
    "                    [9, 10, 11, 12]])\n",
    "\n",
    "# Get shape\n",
    "shape = my_array.shape\n",
    "\n",
    "# Get size\n",
    "size = my_array.size\n",
    "\n",
    "# Get dimensions\n",
    "dimensions = my_array.ndim\n",
    "\n",
    "print(\"Shape:\", shape)\n",
    "print(\"Size:\", size)\n",
    "print(\"Dimensions:\", dimensions)\n",
    "\n"
   ]
  },
  {
   "cell_type": "code",
   "execution_count": null,
   "id": "caf47157-fb01-4dcc-bd5e-1efca43b9b59",
   "metadata": {},
   "outputs": [],
   "source": [
    "#44. Write python code to access the first row of the following array?\n",
    "[[1, 2, 3, 4]\n",
    "[5, 6, 7, 8],\n",
    "[9, 10, 11, 12]]"
   ]
  },
  {
   "cell_type": "code",
   "execution_count": 1,
   "id": "896480f6-ec95-43fb-a967-bf39470900f5",
   "metadata": {
    "tags": []
   },
   "outputs": [
    {
     "name": "stdout",
     "output_type": "stream",
     "text": [
      "First Row: [1 2 3 4]\n"
     ]
    }
   ],
   "source": [
    "import numpy as np\n",
    "\n",
    "# Define the array\n",
    "my_array = np.array([[1, 2, 3, 4],\n",
    "                    [5, 6, 7, 8],\n",
    "                    [9, 10, 11, 12]])\n",
    "\n",
    "# Access the first row\n",
    "first_row = my_array[0, :]\n",
    "\n",
    "print(\"First Row:\", first_row)\n"
   ]
  },
  {
   "cell_type": "code",
   "execution_count": null,
   "id": "74f1e011-0910-4577-bda6-9b28d0267625",
   "metadata": {},
   "outputs": [],
   "source": [
    "#5 How do you access the element at the third row and fourth column from the given numpy array?\n",
    "[[1, 2, 3, 4]\n",
    "[5, 6, 7, 8],\n",
    "[9, 10, 11, 12]]"
   ]
  },
  {
   "cell_type": "code",
   "execution_count": 3,
   "id": "3b7c78ca-5780-4085-aecf-021de5daeae7",
   "metadata": {
    "tags": []
   },
   "outputs": [
    {
     "name": "stdout",
     "output_type": "stream",
     "text": [
      "Element at the third row and fourth column: 12\n"
     ]
    }
   ],
   "source": [
    "import numpy as np\n",
    "\n",
    "# Define the array\n",
    "my_array = np.array([[1, 2, 3, 4],\n",
    "                    [5, 6, 7, 8],\n",
    "                    [9, 10, 11, 12]])\n",
    "\n",
    "# Access the element at the third row (index 2) and fourth column (index 3)\n",
    "element = my_array[2, 3]\n",
    "\n",
    "print(\"Element at the third row and fourth column:\", element)\n"
   ]
  },
  {
   "cell_type": "code",
   "execution_count": null,
   "id": "bf2c3a87-52ff-4a10-a6f7-3338b72805b2",
   "metadata": {},
   "outputs": [],
   "source": [
    "#6 . Write co^e to extract all o^^-in^exe^ elements from the given numpy array?\n",
    "[[1, 2, 3, 4]\n",
    "[5, 6, 7, 8],\n",
    "[9, 10, 11, 12]]"
   ]
  },
  {
   "cell_type": "code",
   "execution_count": 4,
   "id": "89a760cd-3086-49cc-a796-4436dae439b9",
   "metadata": {
    "tags": []
   },
   "outputs": [
    {
     "name": "stdout",
     "output_type": "stream",
     "text": [
      "Odd-indexed elements:\n",
      "[[ 1  3]\n",
      " [ 9 11]]\n"
     ]
    }
   ],
   "source": [
    "import numpy as np\n",
    "\n",
    "# Define the array\n",
    "my_array = np.array([[1, 2, 3, 4],\n",
    "                    [5, 6, 7, 8],\n",
    "                    [9, 10, 11, 12]])\n",
    "\n",
    "# Extract all odd-indexed elements\n",
    "odd_elements = my_array[::2, ::2]\n",
    "\n",
    "print(\"Odd-indexed elements:\")\n",
    "print(odd_elements)\n"
   ]
  },
  {
   "cell_type": "code",
   "execution_count": null,
   "id": "6c69cb69-28fd-4376-aefb-e60c06d0a12f",
   "metadata": {},
   "outputs": [],
   "source": [
    "#7 How can you generate a random 3x3 matrix with values between 0 and 1?"
   ]
  },
  {
   "cell_type": "code",
   "execution_count": 5,
   "id": "99daa84d-9dbd-4730-8d97-9a205913dc5a",
   "metadata": {
    "tags": []
   },
   "outputs": [
    {
     "name": "stdout",
     "output_type": "stream",
     "text": [
      "Random 3x3 matrix:\n",
      "[[0.57928085 0.38059921 0.39736913]\n",
      " [0.4773205  0.56587276 0.732447  ]\n",
      " [0.83478747 0.3338585  0.11889783]]\n"
     ]
    }
   ],
   "source": [
    "import numpy as np\n",
    "\n",
    "# Generate a random 3x3 matrix with values between 0 and 1\n",
    "random_matrix = np.random.rand(3, 3)\n",
    "\n",
    "print(\"Random 3x3 matrix:\")\n",
    "print(random_matrix)\n"
   ]
  },
  {
   "cell_type": "code",
   "execution_count": null,
   "id": "263cc7e5-3e4d-4cfb-a699-e4fe52187846",
   "metadata": {},
   "outputs": [],
   "source": [
    "#8 8. Describe the difference between np.random.rand and np.random.randn?"
   ]
  },
  {
   "cell_type": "code",
   "execution_count": null,
   "id": "59afea7b-a244-4686-b63f-a99d2f1f1eb1",
   "metadata": {
    "tags": []
   },
   "outputs": [],
   "source": [
    "1.np.random.rand:\n",
    "\n",
    "Generates random values from a uniform distribution between 0 (inclusive) and 1 (exclusive).\n",
    "The syntax is np.random.rand(d0, d1, ..., dn), where d0, d1, ..., dn are the dimensions of the output array.\n",
    "Example:\n",
    "import numpy as np\n",
    "random_values = np.random.rand(3, 3)\n",
    "\n",
    "2.np.random.randn:\n",
    "\n",
    "Generates random values from a standard normal distribution (mean = 0, standard deviation = 1).\n",
    "The syntax is np.random.randn(d0, d1, ..., dn), where d0, d1, ..., dn are the dimensions of the output array.\n",
    "Example:\n",
    "import numpy as np\n",
    "random_values = np.random.randn(3, 3)\n",
    "\n",
    "In summary:\n",
    "\n",
    ".np.random.rand generates values from a uniform distribution between 0 and 1.\n",
    ".np.random.randn generates values from a standard normal distribution with mean 0 and standard deviation 1.\n",
    "Both functions can be used to generate random numbers, but the distribution they sample from is different. Choose the one that best fits the \n",
    "requirements of your specific use case.\n",
    "\n",
    "\n",
    "\n",
    "\n"
   ]
  },
  {
   "cell_type": "code",
   "execution_count": null,
   "id": "230c58b9-9591-4af9-b527-72ac2030a729",
   "metadata": {},
   "outputs": [],
   "source": [
    "#9 9. Write code to increase the dimension of the following array?\n",
    "[[1, 2, 3, 4]\n",
    "[5, 6, 7, 8],\n",
    "[9, 10, 11, 12]]"
   ]
  },
  {
   "cell_type": "code",
   "execution_count": 86,
   "id": "e42c98bc-548d-4d50-abff-3c71fdcb3bc4",
   "metadata": {
    "tags": []
   },
   "outputs": [
    {
     "name": "stdout",
     "output_type": "stream",
     "text": [
      "Original Array:\n",
      "[[ 1  2  3  4]\n",
      " [ 5  6  7  8]\n",
      " [ 9 10 11 12]]\n",
      "\n",
      "Array with Increased Dimension:\n",
      "[[[ 1]\n",
      "  [ 2]\n",
      "  [ 3]\n",
      "  [ 4]]\n",
      "\n",
      " [[ 5]\n",
      "  [ 6]\n",
      "  [ 7]\n",
      "  [ 8]]\n",
      "\n",
      " [[ 9]\n",
      "  [10]\n",
      "  [11]\n",
      "  [12]]]\n"
     ]
    }
   ],
   "source": [
    "import numpy as np\n",
    "\n",
    "# Define the array\n",
    "my_array = np.array([[1, 2, 3, 4],\n",
    "                    [5, 6, 7, 8],\n",
    "                    [9, 10, 11, 12]])\n",
    "\n",
    "# Increase the dimension by adding a new axis\n",
    "new_dimension_array = my_array[:, :, np.newaxis]\n",
    "\n",
    "# Alternatively, you can use np.expand_dims\n",
    "# new_dimension_array = np.expand_dims(my_array, axis=2)\n",
    "\n",
    "print(\"Original Array:\")\n",
    "print(my_array)\n",
    "\n",
    "print(\"\\nArray with Increased Dimension:\")\n",
    "print(new_dimension_array)\n"
   ]
  },
  {
   "cell_type": "code",
   "execution_count": null,
   "id": "b5a1cbee-d352-448d-bb07-f0373080bd30",
   "metadata": {},
   "outputs": [],
   "source": [
    "#10 How to transpose the following array in NumPy?\n",
    "[[1, 2, 3, 4]\n",
    "[5, 6, 7, 8],\n",
    "[9, 10, 11, 12]]"
   ]
  },
  {
   "cell_type": "code",
   "execution_count": 87,
   "id": "f8052c48-f552-4025-bffd-d8fce396a93a",
   "metadata": {
    "tags": []
   },
   "outputs": [
    {
     "name": "stdout",
     "output_type": "stream",
     "text": [
      "Original Array:\n",
      "[[ 1  2  3  4]\n",
      " [ 5  6  7  8]\n",
      " [ 9 10 11 12]]\n",
      "\n",
      "Transposed Array:\n",
      "[[ 1  5  9]\n",
      " [ 2  6 10]\n",
      " [ 3  7 11]\n",
      " [ 4  8 12]]\n"
     ]
    }
   ],
   "source": [
    "import numpy as np\n",
    "\n",
    "# Define the array\n",
    "my_array = np.array([[1, 2, 3, 4],\n",
    "                    [5, 6, 7, 8],\n",
    "                    [9, 10, 11, 12]])\n",
    "\n",
    "# Transpose the array using .T\n",
    "transposed_array_t = my_array.T\n",
    "\n",
    "# Alternatively, transpose using numpy.transpose()\n",
    "# transposed_array = np.transpose(my_array)\n",
    "\n",
    "print(\"Original Array:\")\n",
    "print(my_array)\n",
    "\n",
    "print(\"\\nTransposed Array:\")\n",
    "print(transposed_array_t)\n"
   ]
  },
  {
   "cell_type": "code",
   "execution_count": null,
   "id": "6f1f176d-fe6b-492b-86d8-872b9e1e3660",
   "metadata": {},
   "outputs": [],
   "source": [
    "#11 Consider the following matrix:\n",
    "Matrix A2 [[1, 2, 3, 4] [5, 6, 7, 8],[9, 10, 11, 12]]\n",
    "Matrix B2 [[1, 2, 3, 4] [5, 6, 7, 8],[9, 10, 11, 12]]\n",
    "Perform the following operation using Python1\n",
    "1. Index wise multiplication\n",
    "2. Matix multiplication\n",
    "3. Add both the matrics\n",
    "4. Subtact matix B from A \n",
    "5. Divide Matix B by A"
   ]
  },
  {
   "cell_type": "code",
   "execution_count": 91,
   "id": "78e4ffb7-87f1-4377-9707-5ee680ee5785",
   "metadata": {
    "tags": []
   },
   "outputs": [
    {
     "name": "stdout",
     "output_type": "stream",
     "text": [
      "\n",
      "1. Index Wise Multiplication:\n",
      "[[  1   4   9  16]\n",
      " [ 25  36  49  64]\n",
      " [ 81 100 121 144]]\n",
      "\n",
      "2. Matrix Multiplication:\n",
      "[[ 30  70 110]\n",
      " [ 70 174 278]\n",
      " [110 278 446]]\n",
      "\n",
      "Added Matrices:\n",
      "[[ 2  4  6  8]\n",
      " [10 12 14 16]\n",
      " [18 20 22 24]]\n",
      "\n",
      "3. Subtracted Matrix:\n",
      "[[0 0 0 0]\n",
      " [0 0 0 0]\n",
      " [0 0 0 0]]\n",
      "\n",
      "4. Divided Matrix:\n",
      "[[1. 1. 1. 1.]\n",
      " [1. 1. 1. 1.]\n",
      " [1. 1. 1. 1.]]\n"
     ]
    }
   ],
   "source": [
    "import numpy as np\n",
    "\n",
    "# Define matrices A and B\n",
    "matrix_A = np.array([[1, 2, 3, 4],\n",
    "                     [5, 6, 7, 8],\n",
    "                     [9, 10, 11, 12]])\n",
    "\n",
    "matrix_B = np.array([[1, 2, 3, 4],\n",
    "                     [5, 6, 7, 8],\n",
    "                     [9, 10, 11, 12]])\n",
    "\n",
    "# 1. Index wise multiplication\n",
    "index_wise_multiplication = matrix_A * matrix_B\n",
    "\n",
    "# 2. Matrix multiplication\n",
    "matrix_multiplication = np.dot(matrix_A, matrix_B.T)  # Assuming you want to multiply A by the transpose of B\n",
    "\n",
    "# Add both matrices\n",
    "added_matrices = matrix_A + matrix_B\n",
    "\n",
    "# 3. Subtract matrix B from A\n",
    "subtracted_matrix = matrix_A - matrix_B\n",
    "\n",
    "# 4. Divide matrix B by A\n",
    "# Note: Division by zero may occur, so be cautious about this operation\n",
    "divided_matrix = np.divide(matrix_B, matrix_A)\n",
    "\n",
    "# Display results\n",
    "print(\"\\n1. Index Wise Multiplication:\")\n",
    "print(index_wise_multiplication)\n",
    "\n",
    "print(\"\\n2. Matrix Multiplication:\")\n",
    "print(matrix_multiplication)\n",
    "\n",
    "print(\"\\nAdded Matrices:\")\n",
    "print(added_matrices)\n",
    "\n",
    "print(\"\\n3. Subtracted Matrix:\")\n",
    "print(subtracted_matrix)\n",
    "\n",
    "print(\"\\n4. Divided Matrix:\")\n",
    "print(divided_matrix)\n"
   ]
  },
  {
   "cell_type": "code",
   "execution_count": null,
   "id": "7f6f9fa1-6977-4583-bcb9-53f7ccc75727",
   "metadata": {},
   "outputs": [],
   "source": [
    "#12 Which function in Numpy can be used to swap the byte order of an array?"
   ]
  },
  {
   "cell_type": "code",
   "execution_count": 92,
   "id": "0dd8d059-4e6c-4650-9254-045cc6f52715",
   "metadata": {
    "tags": []
   },
   "outputs": [
    {
     "name": "stdout",
     "output_type": "stream",
     "text": [
      "Original Array:\n",
      "[  1 256]\n",
      "\n",
      "Swapped Array:\n",
      "[256   1]\n"
     ]
    }
   ],
   "source": [
    "# In NumPy, the byteswap function can be used to swap the byte order of an array. This function swaps the byte order of the elements\n",
    "in the array without changing the actual data. It's particularly useful when dealing with binary data and handling data across different\n",
    "systems with different byte orders (e.g., little-endian and big-endian).\n",
    "#Example\n",
    "import numpy as np\n",
    "\n",
    "# Create an example array\n",
    "original_array = np.array([1, 256], dtype=np.int16)\n",
    "\n",
    "# Swap the byte order using byteswap\n",
    "swapped_array = original_array.byteswap()\n",
    "\n",
    "print(\"Original Array:\")\n",
    "print(original_array)\n",
    "\n",
    "print(\"\\nSwapped Array:\")\n",
    "print(swapped_array)\n"
   ]
  },
  {
   "cell_type": "code",
   "execution_count": null,
   "id": "5bb26e28-46d9-4a83-8d96-912db6afe2fe",
   "metadata": {},
   "outputs": [],
   "source": [
    "#13 What is the significance of the np.linalg.inv function?"
   ]
  },
  {
   "cell_type": "code",
   "execution_count": null,
   "id": "88b5b3db-5a1e-40a7-9c51-5066aef5179c",
   "metadata": {},
   "outputs": [],
   "source": [
    "Here are some key points regarding the significance of np.linalg.inv:\n",
    "\n",
    "1.Solving Linear Systems: One common application is in solving systems of linear equations. If you have a system of equations \n",
    "represented by the matrix equation Ax = B, where A is a coefficient matrix, x is the column vector of variables, and B is \n",
    "the column vector of constants, you can find the solution vector x by multiplying both sides of the equation by the inverse of A: \n",
    "\n",
    "2.Eigenvalue Problems: The inverse of a matrix is often used in eigenvalue problems and in the diagonalization of matrices.\n",
    "\n",
    "3.Numerical Stability: While the concept of the inverse is straightforward in theory, in practice, numerical issues can arise.\n",
    "The np.linalg.inv function is implemented to handle these issues and provide a stable and accurate computation of the matrix inverse."
   ]
  },
  {
   "cell_type": "code",
   "execution_count": 94,
   "id": "64b3d427-0740-424d-a9d1-eb65694de6fb",
   "metadata": {
    "tags": []
   },
   "outputs": [
    {
     "name": "stdout",
     "output_type": "stream",
     "text": [
      "Original Matrix:\n",
      "[[4 7]\n",
      " [2 6]]\n",
      "\n",
      "Inverse Matrix:\n",
      "[[ 0.6 -0.7]\n",
      " [-0.2  0.4]]\n"
     ]
    }
   ],
   "source": [
    "#The np.linalg.inv function in NumPy is used to compute the inverse of a square matrix. The significance of this function lies\n",
    "#in its applications in linear algebra and solving systems of linear equations.\n",
    "\n",
    "#Given a square matrix A, if there exists a matrix A^(-1) such that the product of A and A^(-1) is the identity matrix (I),\n",
    "#then A^(-1) is the inverse of A. \n",
    "\n",
    "import numpy as np\n",
    "\n",
    "# Define a square matrix\n",
    "matrix_A = np.array([[4, 7],\n",
    "                     [2, 6]])\n",
    "\n",
    "# Compute the inverse\n",
    "inverse_A = np.linalg.inv(matrix_A)\n",
    "\n",
    "print(\"Original Matrix:\")\n",
    "print(matrix_A)\n",
    "\n",
    "print(\"\\nInverse Matrix:\")\n",
    "print(inverse_A)\n",
    "\n",
    "\n",
    "\n",
    "\n"
   ]
  },
  {
   "cell_type": "code",
   "execution_count": null,
   "id": "fe475ed6-da50-4943-b393-82adc745d801",
   "metadata": {},
   "outputs": [],
   "source": [
    "#14What does the np.reshape function do, and how is it used?"
   ]
  },
  {
   "cell_type": "code",
   "execution_count": null,
   "id": "962a2d3f-e81a-44e9-bb3f-b10c32325db7",
   "metadata": {},
   "outputs": [],
   "source": [
    "The np.reshape function in NumPy is used to change the shape of an array without changing its data.\n",
    "It allows you to modify the dimensions (number of rows and columns) of the array while keeping the total number of elements constant. \n",
    "The reshaped array shares the same data with the original array;\n",
    "only the view of the data changes."
   ]
  },
  {
   "cell_type": "code",
   "execution_count": 95,
   "id": "9abbf724-b77b-49e6-b50c-59808529375f",
   "metadata": {
    "tags": []
   },
   "outputs": [
    {
     "name": "stdout",
     "output_type": "stream",
     "text": [
      "Original Array:\n",
      "[1 2 3 4 5 6]\n",
      "\n",
      "Reshaped Array:\n",
      "[[1 2 3]\n",
      " [4 5 6]]\n"
     ]
    }
   ],
   "source": [
    "#reshaping 1 D to 2 D array\n",
    "import numpy as np\n",
    "\n",
    "original_array = np.array([1, 2, 3, 4, 5, 6])\n",
    "reshaped_array = np.reshape(original_array, (2, 3))\n",
    "\n",
    "print(\"Original Array:\")\n",
    "print(original_array)\n",
    "\n",
    "print(\"\\nReshaped Array:\")\n",
    "print(reshaped_array)\n"
   ]
  },
  {
   "cell_type": "code",
   "execution_count": 96,
   "id": "316f24c8-5790-427e-9bad-28c378f08edc",
   "metadata": {
    "tags": []
   },
   "outputs": [
    {
     "name": "stdout",
     "output_type": "stream",
     "text": [
      "Original Array:\n",
      "[[1 2 3]\n",
      " [4 5 6]]\n",
      "\n",
      "Reshaped Array:\n",
      "[1 2 3 4 5 6]\n"
     ]
    }
   ],
   "source": [
    "#reshaping 2D to 1D\n",
    "import numpy as np\n",
    "\n",
    "original_array = np.array([[1, 2, 3],\n",
    "                           [4, 5, 6]])\n",
    "reshaped_array = np.reshape(original_array, 6)\n",
    "\n",
    "print(\"Original Array:\")\n",
    "print(original_array)\n",
    "\n",
    "print(\"\\nReshaped Array:\")\n",
    "print(reshaped_array)\n"
   ]
  },
  {
   "cell_type": "code",
   "execution_count": null,
   "id": "9b01e884-e6a1-4ce7-b5ba-723295481e8c",
   "metadata": {},
   "outputs": [],
   "source": [
    "#14What is broadcasting in Numpy?"
   ]
  },
  {
   "cell_type": "code",
   "execution_count": null,
   "id": "2ecacbd0-46b7-4ed6-b56e-2d30344d1d71",
   "metadata": {},
   "outputs": [],
   "source": [
    "Broadcasting in NumPy is a powerful mechanism that allows arrays of different shapes to be combined and operated upon together.\n",
    "In cases where the shapes of the arrays being operated upon are not the same, NumPy automatically broadcasts the smaller array\n",
    "to match the shape of the larger array. This avoids the need for explicit replication of the smaller array, making operations more concise and efficient.\n",
    "\n",
    "The broadcasting rules allow NumPy to perform element-wise operations on arrays of different shapes, extending or \"broadcasting\"\n",
    "the smaller array to match the shape of the larger array. The dimensions of the arrays are compared element-wise, starting from\n",
    "the rightmost dimension, and the following rules are applied:\n",
    "\n",
    "1.If the dimensions are equal, or if one of the dimensions is 1, they are compatible.\n",
    "2.If dimensions are not equal and none of them is 1, the arrays are incompatible, and broadcasting will raise an error."
   ]
  },
  {
   "cell_type": "code",
   "execution_count": 97,
   "id": "cb7a5648-6a68-498b-bd7e-e582c4506b4f",
   "metadata": {
    "tags": []
   },
   "outputs": [
    {
     "name": "stdout",
     "output_type": "stream",
     "text": [
      "Larger Array:\n",
      "[[1 2 3]\n",
      " [4 5 6]\n",
      " [7 8 9]]\n",
      "\n",
      "Smaller Array:\n",
      "[10 20 30]\n",
      "\n",
      "Result after Broadcasting:\n",
      "[[11 22 33]\n",
      " [14 25 36]\n",
      " [17 28 39]]\n"
     ]
    }
   ],
   "source": [
    "import numpy as np\n",
    "\n",
    "# Larger array (3x3)\n",
    "larger_array = np.array([[1, 2, 3],\n",
    "                         [4, 5, 6],\n",
    "                         [7, 8, 9]])\n",
    "\n",
    "# Smaller array (1x3)\n",
    "smaller_array = np.array([10, 20, 30])\n",
    "\n",
    "# Broadcasting the smaller array to the shape of the larger array\n",
    "result = larger_array + smaller_array\n",
    "\n",
    "print(\"Larger Array:\")\n",
    "print(larger_array)\n",
    "\n",
    "print(\"\\nSmaller Array:\")\n",
    "print(smaller_array)\n",
    "\n",
    "print(\"\\nResult after Broadcasting:\")\n",
    "print(result)\n"
   ]
  }
 ],
 "metadata": {
  "kernelspec": {
   "display_name": "Python 3 (ipykernel)",
   "language": "python",
   "name": "python3"
  },
  "language_info": {
   "codemirror_mode": {
    "name": "ipython",
    "version": 3
   },
   "file_extension": ".py",
   "mimetype": "text/x-python",
   "name": "python",
   "nbconvert_exporter": "python",
   "pygments_lexer": "ipython3",
   "version": "3.11.5"
  }
 },
 "nbformat": 4,
 "nbformat_minor": 5
}
